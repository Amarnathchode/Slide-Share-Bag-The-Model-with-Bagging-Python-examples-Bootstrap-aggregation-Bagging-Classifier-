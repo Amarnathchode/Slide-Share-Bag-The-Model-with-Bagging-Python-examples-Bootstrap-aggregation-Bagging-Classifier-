{
 "cells": [
  {
   "cell_type": "markdown",
   "metadata": {},
   "source": [
    "# Bootstrap Aggregation"
   ]
  },
  {
   "cell_type": "code",
   "execution_count": 1,
   "metadata": {},
   "outputs": [],
   "source": [
    "import warnings\n",
    "warnings.filterwarnings('ignore')"
   ]
  },
  {
   "cell_type": "code",
   "execution_count": 1,
   "metadata": {},
   "outputs": [],
   "source": [
    "import os\n",
    "import pandas as pd\n",
    "import numpy as np\n",
    "\n",
    "from sklearn.model_selection import train_test_split\n",
    "from sklearn.linear_model import SGDRegressor\n",
    "from sklearn.metrics import mean_squared_error, r2_score\n",
    "import matplotlib.pyplot as plt\n",
    "\n",
    "from sklearn.utils import resample"
   ]
  },
  {
   "cell_type": "code",
   "execution_count": 4,
   "metadata": {},
   "outputs": [],
   "source": [
    "# Let's read our data. We prefix the data frame name with \"df_\" for easier understanding.\n",
    "df_autodata = pd.read_csv(\"autompg.csv\")"
   ]
  },
  {
   "cell_type": "code",
   "execution_count": 5,
   "metadata": {},
   "outputs": [
    {
     "data": {
      "text/html": [
       "<div>\n",
       "<style scoped>\n",
       "    .dataframe tbody tr th:only-of-type {\n",
       "        vertical-align: middle;\n",
       "    }\n",
       "\n",
       "    .dataframe tbody tr th {\n",
       "        vertical-align: top;\n",
       "    }\n",
       "\n",
       "    .dataframe thead th {\n",
       "        text-align: right;\n",
       "    }\n",
       "</style>\n",
       "<table border=\"1\" class=\"dataframe\">\n",
       "  <thead>\n",
       "    <tr style=\"text-align: right;\">\n",
       "      <th></th>\n",
       "      <th>mpg</th>\n",
       "      <th>cylinders</th>\n",
       "      <th>displacement</th>\n",
       "      <th>horsepower</th>\n",
       "      <th>weight</th>\n",
       "      <th>acceleration</th>\n",
       "      <th>model year</th>\n",
       "      <th>origin</th>\n",
       "      <th>carname</th>\n",
       "    </tr>\n",
       "  </thead>\n",
       "  <tbody>\n",
       "    <tr>\n",
       "      <th>0</th>\n",
       "      <td>18.0</td>\n",
       "      <td>8</td>\n",
       "      <td>307.0</td>\n",
       "      <td>130.0</td>\n",
       "      <td>3504</td>\n",
       "      <td>12.0</td>\n",
       "      <td>70</td>\n",
       "      <td>1</td>\n",
       "      <td>chevrolet chevelle malibu</td>\n",
       "    </tr>\n",
       "    <tr>\n",
       "      <th>1</th>\n",
       "      <td>15.0</td>\n",
       "      <td>8</td>\n",
       "      <td>350.0</td>\n",
       "      <td>165.0</td>\n",
       "      <td>3693</td>\n",
       "      <td>11.5</td>\n",
       "      <td>70</td>\n",
       "      <td>1</td>\n",
       "      <td>buick skylark 320</td>\n",
       "    </tr>\n",
       "    <tr>\n",
       "      <th>2</th>\n",
       "      <td>18.0</td>\n",
       "      <td>8</td>\n",
       "      <td>318.0</td>\n",
       "      <td>150.0</td>\n",
       "      <td>3436</td>\n",
       "      <td>11.0</td>\n",
       "      <td>70</td>\n",
       "      <td>1</td>\n",
       "      <td>plymouth satellite</td>\n",
       "    </tr>\n",
       "    <tr>\n",
       "      <th>3</th>\n",
       "      <td>16.0</td>\n",
       "      <td>8</td>\n",
       "      <td>304.0</td>\n",
       "      <td>150.0</td>\n",
       "      <td>3433</td>\n",
       "      <td>12.0</td>\n",
       "      <td>70</td>\n",
       "      <td>1</td>\n",
       "      <td>amc rebel sst</td>\n",
       "    </tr>\n",
       "    <tr>\n",
       "      <th>4</th>\n",
       "      <td>17.0</td>\n",
       "      <td>8</td>\n",
       "      <td>302.0</td>\n",
       "      <td>140.0</td>\n",
       "      <td>3449</td>\n",
       "      <td>10.5</td>\n",
       "      <td>70</td>\n",
       "      <td>1</td>\n",
       "      <td>ford torino</td>\n",
       "    </tr>\n",
       "  </tbody>\n",
       "</table>\n",
       "</div>"
      ],
      "text/plain": [
       "    mpg  cylinders  displacement  horsepower  weight  acceleration  \\\n",
       "0  18.0          8         307.0       130.0    3504          12.0   \n",
       "1  15.0          8         350.0       165.0    3693          11.5   \n",
       "2  18.0          8         318.0       150.0    3436          11.0   \n",
       "3  16.0          8         304.0       150.0    3433          12.0   \n",
       "4  17.0          8         302.0       140.0    3449          10.5   \n",
       "\n",
       "   model year  origin                    carname  \n",
       "0          70       1  chevrolet chevelle malibu  \n",
       "1          70       1          buick skylark 320  \n",
       "2          70       1         plymouth satellite  \n",
       "3          70       1              amc rebel sst  \n",
       "4          70       1                ford torino  "
      ]
     },
     "execution_count": 5,
     "metadata": {},
     "output_type": "execute_result"
    }
   ],
   "source": [
    "df_autodata.head()"
   ]
  },
  {
   "cell_type": "markdown",
   "metadata": {},
   "source": [
    "## we check whether the dataset has any missing values"
   ]
  },
  {
   "cell_type": "code",
   "execution_count": 6,
   "metadata": {},
   "outputs": [
    {
     "data": {
      "text/plain": [
       "mpg             0.000000\n",
       "cylinders       0.000000\n",
       "displacement    0.000000\n",
       "horsepower      0.015075\n",
       "weight          0.000000\n",
       "acceleration    0.000000\n",
       "model year      0.000000\n",
       "origin          0.000000\n",
       "carname         0.000000\n",
       "dtype: float64"
      ]
     },
     "execution_count": 6,
     "metadata": {},
     "output_type": "execute_result"
    }
   ],
   "source": [
    "df_autodata.isnull().mean()"
   ]
  },
  {
   "cell_type": "code",
   "execution_count": 7,
   "metadata": {},
   "outputs": [
    {
     "data": {
      "text/plain": [
       "horsepower    6\n",
       "dtype: int64"
      ]
     },
     "execution_count": 7,
     "metadata": {},
     "output_type": "execute_result"
    }
   ],
   "source": [
    "# The below syntax returns the column names which has any missing value\n",
    "columns_with_missing_values=df_autodata.columns[df_autodata.isnull().any()]\n",
    "\n",
    "# We pass the column names with missing values to the dataframe to count the number\n",
    "# of missing values\n",
    "df_autodata[columns_with_missing_values].isnull().sum()"
   ]
  },
  {
   "cell_type": "code",
   "execution_count": 8,
   "metadata": {},
   "outputs": [],
   "source": [
    "df_autodata['horsepower'].fillna(df_autodata['horsepower'].median(), inplace=True)\n",
    "df_autodata.drop(['carname'], axis=1, inplace=True)"
   ]
  },
  {
   "cell_type": "code",
   "execution_count": 9,
   "metadata": {},
   "outputs": [
    {
     "data": {
      "text/plain": [
       "(398, 8)"
      ]
     },
     "execution_count": 9,
     "metadata": {},
     "output_type": "execute_result"
    }
   ],
   "source": [
    "df_autodata.shape"
   ]
  },
  {
   "cell_type": "code",
   "execution_count": 10,
   "metadata": {},
   "outputs": [
    {
     "data": {
      "text/plain": [
       "Series([], dtype: float64)"
      ]
     },
     "execution_count": 10,
     "metadata": {},
     "output_type": "execute_result"
    }
   ],
   "source": [
    "columns_with_missing_values=df_autodata.columns[df_autodata.isnull().any()]\n",
    "df_autodata[columns_with_missing_values].isnull().sum()"
   ]
  },
  {
   "cell_type": "code",
   "execution_count": 11,
   "metadata": {},
   "outputs": [
    {
     "data": {
      "text/html": [
       "<div>\n",
       "<style scoped>\n",
       "    .dataframe tbody tr th:only-of-type {\n",
       "        vertical-align: middle;\n",
       "    }\n",
       "\n",
       "    .dataframe tbody tr th {\n",
       "        vertical-align: top;\n",
       "    }\n",
       "\n",
       "    .dataframe thead th {\n",
       "        text-align: right;\n",
       "    }\n",
       "</style>\n",
       "<table border=\"1\" class=\"dataframe\">\n",
       "  <thead>\n",
       "    <tr style=\"text-align: right;\">\n",
       "      <th></th>\n",
       "      <th>mpg</th>\n",
       "      <th>cylinders</th>\n",
       "      <th>displacement</th>\n",
       "      <th>horsepower</th>\n",
       "      <th>weight</th>\n",
       "      <th>acceleration</th>\n",
       "      <th>model year</th>\n",
       "      <th>origin</th>\n",
       "    </tr>\n",
       "  </thead>\n",
       "  <tbody>\n",
       "    <tr>\n",
       "      <th>0</th>\n",
       "      <td>18.0</td>\n",
       "      <td>8</td>\n",
       "      <td>307.0</td>\n",
       "      <td>130.0</td>\n",
       "      <td>3504</td>\n",
       "      <td>12.0</td>\n",
       "      <td>70</td>\n",
       "      <td>1</td>\n",
       "    </tr>\n",
       "    <tr>\n",
       "      <th>1</th>\n",
       "      <td>15.0</td>\n",
       "      <td>8</td>\n",
       "      <td>350.0</td>\n",
       "      <td>165.0</td>\n",
       "      <td>3693</td>\n",
       "      <td>11.5</td>\n",
       "      <td>70</td>\n",
       "      <td>1</td>\n",
       "    </tr>\n",
       "    <tr>\n",
       "      <th>2</th>\n",
       "      <td>18.0</td>\n",
       "      <td>8</td>\n",
       "      <td>318.0</td>\n",
       "      <td>150.0</td>\n",
       "      <td>3436</td>\n",
       "      <td>11.0</td>\n",
       "      <td>70</td>\n",
       "      <td>1</td>\n",
       "    </tr>\n",
       "    <tr>\n",
       "      <th>3</th>\n",
       "      <td>16.0</td>\n",
       "      <td>8</td>\n",
       "      <td>304.0</td>\n",
       "      <td>150.0</td>\n",
       "      <td>3433</td>\n",
       "      <td>12.0</td>\n",
       "      <td>70</td>\n",
       "      <td>1</td>\n",
       "    </tr>\n",
       "    <tr>\n",
       "      <th>4</th>\n",
       "      <td>17.0</td>\n",
       "      <td>8</td>\n",
       "      <td>302.0</td>\n",
       "      <td>140.0</td>\n",
       "      <td>3449</td>\n",
       "      <td>10.5</td>\n",
       "      <td>70</td>\n",
       "      <td>1</td>\n",
       "    </tr>\n",
       "  </tbody>\n",
       "</table>\n",
       "</div>"
      ],
      "text/plain": [
       "    mpg  cylinders  displacement  horsepower  weight  acceleration  \\\n",
       "0  18.0          8         307.0       130.0    3504          12.0   \n",
       "1  15.0          8         350.0       165.0    3693          11.5   \n",
       "2  18.0          8         318.0       150.0    3436          11.0   \n",
       "3  16.0          8         304.0       150.0    3433          12.0   \n",
       "4  17.0          8         302.0       140.0    3449          10.5   \n",
       "\n",
       "   model year  origin  \n",
       "0          70       1  \n",
       "1          70       1  \n",
       "2          70       1  \n",
       "3          70       1  \n",
       "4          70       1  "
      ]
     },
     "execution_count": 11,
     "metadata": {},
     "output_type": "execute_result"
    }
   ],
   "source": [
    "df_autodata.head()"
   ]
  },
  {
   "cell_type": "markdown",
   "metadata": {},
   "source": [
    "## Create Bootstrap Samples"
   ]
  },
  {
   "cell_type": "code",
   "execution_count": 12,
   "metadata": {},
   "outputs": [],
   "source": [
    "def create_bootstrap_oob(df):\n",
    "    global df_OOB\n",
    "    global df_bootstrap_sample  \n",
    "    \n",
    "    # creating the bootstrap sample\n",
    "    df_bootstrap_sample = resample(df, replace=True, n_samples=100)\n",
    "    \n",
    "    # creating the OOB sample    \n",
    "    bootstrap_sample_index = tuple(df_bootstrap_sample.index)\n",
    "    bootstrap_df = df.index.isin(bootstrap_sample_index)\n",
    "    df_OOB = df[~bootstrap_df]"
   ]
  },
  {
   "cell_type": "code",
   "execution_count": 13,
   "metadata": {},
   "outputs": [],
   "source": [
    "iteration=50\n",
    "bootstap_statistics=list()\n",
    "originalsample_statistics=list()\n",
    "\n",
    "for i in range(iteration):\n",
    "    # call custom function create_bootstrap_oob(). Pass df_autodata\n",
    "    create_bootstrap_oob(df_autodata)\n",
    "    \n",
    "    # capture mean value of mpg variable for all bootstrap samples\n",
    "    bootstap_statistics.append(df_bootstrap_sample.iloc[:,0].mean())\n",
    "    \n",
    "    originalsample_statistics.append(df_autodata['mpg'].mean())"
   ]
  },
  {
   "cell_type": "code",
   "execution_count": 14,
   "metadata": {},
   "outputs": [],
   "source": [
    "m = df_bootstrap_sample.index"
   ]
  },
  {
   "cell_type": "code",
   "execution_count": 15,
   "metadata": {},
   "outputs": [
    {
     "data": {
      "text/plain": [
       "Int64Index([114, 155, 288,  46,  18, 185, 170, 279, 184, 185,  28,  69, 280,\n",
       "            181, 263, 106, 241, 388, 288, 216, 352, 138,  88, 319,  33, 337,\n",
       "            267, 281, 347,   7, 177, 175, 368, 165,  62, 309,  54, 146, 280,\n",
       "            194,   0,  88, 379, 100, 275, 173, 271, 305,  66, 208, 382, 361,\n",
       "             28, 287, 336, 311,  28, 128, 374, 284, 391, 397, 329, 174,  91,\n",
       "             17, 101, 364, 152, 222, 221, 115, 131, 173,  23, 102, 356, 210,\n",
       "             71,  68, 306, 182, 127, 234, 379, 312, 208, 251,  44,  88, 338,\n",
       "            310, 247, 389,  64,  81, 188, 240,  80, 203],\n",
       "           dtype='int64')"
      ]
     },
     "execution_count": 15,
     "metadata": {},
     "output_type": "execute_result"
    }
   ],
   "source": [
    "m"
   ]
  },
  {
   "cell_type": "code",
   "execution_count": 16,
   "metadata": {
    "scrolled": true
   },
   "outputs": [
    {
     "data": {
      "text/plain": [
       "(114,\n",
       " 155,\n",
       " 288,\n",
       " 46,\n",
       " 18,\n",
       " 185,\n",
       " 170,\n",
       " 279,\n",
       " 184,\n",
       " 185,\n",
       " 28,\n",
       " 69,\n",
       " 280,\n",
       " 181,\n",
       " 263,\n",
       " 106,\n",
       " 241,\n",
       " 388,\n",
       " 288,\n",
       " 216,\n",
       " 352,\n",
       " 138,\n",
       " 88,\n",
       " 319,\n",
       " 33,\n",
       " 337,\n",
       " 267,\n",
       " 281,\n",
       " 347,\n",
       " 7,\n",
       " 177,\n",
       " 175,\n",
       " 368,\n",
       " 165,\n",
       " 62,\n",
       " 309,\n",
       " 54,\n",
       " 146,\n",
       " 280,\n",
       " 194,\n",
       " 0,\n",
       " 88,\n",
       " 379,\n",
       " 100,\n",
       " 275,\n",
       " 173,\n",
       " 271,\n",
       " 305,\n",
       " 66,\n",
       " 208,\n",
       " 382,\n",
       " 361,\n",
       " 28,\n",
       " 287,\n",
       " 336,\n",
       " 311,\n",
       " 28,\n",
       " 128,\n",
       " 374,\n",
       " 284,\n",
       " 391,\n",
       " 397,\n",
       " 329,\n",
       " 174,\n",
       " 91,\n",
       " 17,\n",
       " 101,\n",
       " 364,\n",
       " 152,\n",
       " 222,\n",
       " 221,\n",
       " 115,\n",
       " 131,\n",
       " 173,\n",
       " 23,\n",
       " 102,\n",
       " 356,\n",
       " 210,\n",
       " 71,\n",
       " 68,\n",
       " 306,\n",
       " 182,\n",
       " 127,\n",
       " 234,\n",
       " 379,\n",
       " 312,\n",
       " 208,\n",
       " 251,\n",
       " 44,\n",
       " 88,\n",
       " 338,\n",
       " 310,\n",
       " 247,\n",
       " 389,\n",
       " 64,\n",
       " 81,\n",
       " 188,\n",
       " 240,\n",
       " 80,\n",
       " 203)"
      ]
     },
     "execution_count": 16,
     "metadata": {},
     "output_type": "execute_result"
    }
   ],
   "source": [
    "bootstrap_sample_index = tuple(df_bootstrap_sample.index)\n",
    "bootstrap_sample_index"
   ]
  },
  {
   "cell_type": "code",
   "execution_count": 17,
   "metadata": {},
   "outputs": [
    {
     "data": {
      "image/png": "[encoded data removed]",
      "text/plain": [
       "<Figure size 432x432 with 1 Axes>"
      ]
     },
     "metadata": {
      "needs_background": "light"
     },
     "output_type": "display_data"
    }
   ],
   "source": [
    "import matplotlib.pyplot as plt\n",
    "f, ax= plt.subplots(figsize=(6,6))\n",
    "\n",
    "plt.plot(bootstap_statistics, 'c--', label='Bootstrap Sample Statistic')\n",
    "plt.plot(originalsample_statistics, 'grey', label='Original Sample Statistic')\n",
    "plt.xlabel('Iterations')\n",
    "plt.ylabel('Statistic (Mean of mpg)')\n",
    "plt.legend(loc=4)\n",
    "plt.show()"
   ]
  },
  {
   "cell_type": "markdown",
   "metadata": {},
   "source": [
    "## Build models on bootstrap samples"
   ]
  },
  {
   "cell_type": "code",
   "execution_count": 18,
   "metadata": {},
   "outputs": [],
   "source": [
    "iteration=50\n",
    "mse_each_iterations = list()\n",
    "lm=SGDRegressor()\n",
    "total_mse=0\n",
    "average_mse= list()\n",
    "\n",
    "for i in range(iteration):\n",
    "    create_bootstrap_oob(df_autodata)\n",
    "    X_BS = df_bootstrap_sample.iloc[:,1:8] #Bootstrap sample features\n",
    "    Y_BS = df_bootstrap_sample.iloc[:,0] #Bootstrap sample response variable\n",
    "\n",
    "    X_OOB = df_OOB.iloc[:,1:8] #OOB sample features\n",
    "    Y_OOB = df_OOB.iloc[:,0] #OOB sample response variable    \n",
    "    \n",
    "    # fit your model with bootstrap sample\n",
    "    lm=SGDRegressor()\n",
    "    lm.fit(X_BS, Y_BS)\n",
    "    \n",
    "    # test your model on out-of-bag sample \n",
    "    predictedvalues = lm.predict(X_OOB)\n",
    "    \n",
    "    # capture MSE for the predicted values against OOB actuals\n",
    "    mse = mean_squared_error(Y_OOB, predictedvalues)\n",
    "    \n",
    "    # create a list of mse values\n",
    "    mse_each_iterations.append(mse) \n"
   ]
  },
  {
   "cell_type": "code",
   "execution_count": 19,
   "metadata": {},
   "outputs": [
    {
     "data": {
      "text/plain": [
       "array([1.54306885e+16, 1.63588772e+16, 1.51953528e+16, 1.51956776e+16,\n",
       "       1.92847655e+16, 1.94258883e+16, 1.97248166e+16, 1.71400506e+16,\n",
       "       1.59801175e+16, 1.67765544e+16, 1.42016040e+16, 1.01692909e+16,\n",
       "       1.20811803e+16, 1.13050324e+16, 7.87550248e+15, 1.13926579e+16,\n",
       "       1.03877876e+16, 9.63526454e+15, 1.90722194e+16, 1.91357535e+16,\n",
       "       2.05271269e+16, 9.11960303e+15, 9.79969691e+15, 9.57529257e+15,\n",
       "       8.77926795e+15, 1.16025051e+16, 1.49055176e+16, 1.45219004e+16,\n",
       "       1.44028379e+16, 1.42999871e+16, 1.96921245e+16, 1.82554462e+16,\n",
       "       1.79175306e+16, 2.16707841e+16, 2.08520980e+16, 2.24805048e+16,\n",
       "       1.03818790e+16, 1.43280689e+16, 1.37305581e+16, 9.14779294e+15,\n",
       "       8.82392109e+15, 8.81741670e+15, 7.55568388e+15, 6.90127535e+15,\n",
       "       7.88037221e+15, 9.78133200e+15, 9.09919931e+15, 9.60854488e+15,\n",
       "       1.03932862e+16, 9.58742787e+15, 1.87552115e+16, 1.93661300e+16,\n",
       "       1.80782718e+16, 1.61275425e+16, 2.04953811e+16, 1.95026217e+16,\n",
       "       1.70349403e+16, 1.78805330e+16, 1.86806024e+16, 1.78389911e+16,\n",
       "       1.25175804e+16, 1.07535448e+16, 1.26879918e+16, 9.34752354e+15,\n",
       "       1.02845701e+16, 9.77361748e+15, 1.07436924e+16, 9.25756216e+15,\n",
       "       8.99561442e+15, 1.80437248e+16, 1.76392322e+16, 1.66015495e+16,\n",
       "       2.18046794e+16, 1.96758816e+16, 1.91206056e+16, 2.09527763e+16,\n",
       "       2.18941536e+16, 1.35935481e+16, 1.32434889e+16, 8.34955199e+15,\n",
       "       2.15099356e+16, 2.03550327e+16, 1.96927937e+16, 1.22415278e+16,\n",
       "       9.73368771e+15, 1.03527846e+16, 9.01675209e+15, 1.07126651e+16,\n",
       "       9.68043666e+15, 1.79502499e+16, 1.89601151e+16, 1.22492965e+16,\n",
       "       1.50424585e+16, 1.62486332e+16, 1.34294852e+16, 1.45503875e+16,\n",
       "       8.31025911e+15, 1.05114976e+16, 7.81512646e+15, 1.63859586e+16,\n",
       "       1.58011489e+16, 1.56228972e+16, 2.04983001e+16, 1.94063002e+16,\n",
       "       2.00993782e+16, 1.85401121e+16, 9.48603917e+15, 8.36416502e+15,\n",
       "       9.81416786e+15, 7.05044692e+15, 8.53676411e+15, 9.06987891e+15,\n",
       "       9.64526569e+15, 1.06733492e+16, 1.02313142e+16, 8.51674779e+15,\n",
       "       1.41768520e+16, 1.50609364e+16, 1.49280374e+16, 1.94266985e+16,\n",
       "       1.95752535e+16, 1.68674445e+16, 1.62052202e+16, 1.63256873e+16,\n",
       "       1.32760411e+16, 1.41179770e+16, 1.40330921e+16, 9.27991302e+15,\n",
       "       1.13415618e+16, 1.27568797e+16, 1.11443748e+16, 9.47129290e+15,\n",
       "       1.28649011e+16, 8.29112541e+15, 1.39754841e+16, 1.15029297e+16,\n",
       "       1.25978003e+16, 1.25578325e+16, 7.69714777e+15, 1.05248468e+16,\n",
       "       9.54146280e+15, 9.63171633e+15, 9.42462317e+15, 1.83633973e+16,\n",
       "       1.73039840e+16, 1.85060194e+16, 1.40521393e+16, 1.46237212e+16,\n",
       "       1.30548738e+16, 1.34556128e+16, 8.66847045e+15, 9.24384306e+15,\n",
       "       8.29101905e+15, 7.69706405e+15, 1.57761650e+16, 1.58312620e+16,\n",
       "       1.39805461e+16, 8.49474318e+15, 9.21379350e+15, 1.10294363e+16,\n",
       "       1.34322110e+16, 1.72735781e+16, 1.38884262e+16, 1.26050099e+16,\n",
       "       1.63189660e+16, 1.92016895e+16, 1.78386799e+16, 1.69249552e+16,\n",
       "       8.75825369e+15, 9.25812551e+15, 7.78865581e+15, 9.89869708e+15,\n",
       "       8.30904747e+15, 1.69847139e+16, 1.75722866e+16, 1.80952203e+16,\n",
       "       1.86779450e+16, 1.48647138e+16, 1.56894512e+16, 1.53282830e+16,\n",
       "       1.91277794e+16, 1.89988625e+16, 8.32893771e+15, 1.17935346e+16,\n",
       "       9.66730301e+15, 1.18238012e+16, 8.77994821e+15, 8.89184639e+15,\n",
       "       8.50734563e+15, 9.36018759e+15, 1.20942535e+16, 1.11423859e+16,\n",
       "       8.47417975e+15, 7.74663137e+15, 8.44168811e+15, 8.82443016e+15,\n",
       "       1.47056688e+16, 1.64213864e+16, 1.56932433e+16, 1.28635215e+16,\n",
       "       1.16787285e+16, 1.48644220e+16, 1.39710703e+16, 1.46790860e+16,\n",
       "       1.32965658e+16, 1.56544447e+16, 1.48916887e+16, 1.51077500e+16,\n",
       "       1.49858384e+16, 1.41877833e+16, 1.78444318e+16, 9.21208659e+15,\n",
       "       1.10056905e+16, 9.89047170e+15, 9.54662052e+15, 1.08200257e+16,\n",
       "       1.18395750e+16, 1.21157125e+16, 1.35026397e+16, 1.19496316e+16,\n",
       "       1.46213181e+16, 9.12954494e+15, 1.41285753e+16, 1.29663710e+16,\n",
       "       1.23797232e+16, 1.41977719e+16, 1.68097038e+16, 1.63260539e+16,\n",
       "       1.74242743e+16, 1.91026842e+16, 1.78351179e+16, 1.73965037e+16,\n",
       "       8.23896975e+15, 8.43246054e+15, 8.22987379e+15, 1.14115700e+16,\n",
       "       1.71858242e+16, 1.36086400e+16, 1.49191220e+16, 9.41967652e+15,\n",
       "       9.21330425e+15, 9.08910116e+15, 1.12776020e+16, 1.17105934e+16,\n",
       "       8.40881772e+15, 9.06889060e+15, 8.61377334e+15, 1.15387624e+16,\n",
       "       1.22970739e+16, 1.28790762e+16, 9.35153570e+15, 1.16250620e+16,\n",
       "       1.08771316e+16, 9.69951825e+15, 8.98902407e+15, 1.20664345e+16,\n",
       "       8.98599297e+15, 8.88647000e+15, 9.91753870e+15, 1.25578114e+16,\n",
       "       9.16693165e+15, 7.90302192e+15, 1.25730340e+16, 1.02435619e+16,\n",
       "       1.07182837e+16, 1.24452565e+16, 1.07124815e+16, 1.13574635e+16,\n",
       "       1.13155333e+16, 1.18103510e+16, 1.02795806e+16, 7.49965931e+15,\n",
       "       8.01909516e+15, 7.52749182e+15, 8.83686518e+15, 8.42902798e+15,\n",
       "       8.74836155e+15, 8.49005391e+15, 8.75617607e+15, 1.01376707e+16,\n",
       "       9.38071505e+15, 9.91466130e+15, 1.00499209e+16, 1.37795529e+16,\n",
       "       1.25213489e+16, 1.25830431e+16, 1.48263875e+16, 1.64508491e+16,\n",
       "       1.32569358e+16, 1.49989507e+16, 1.12660087e+16, 1.09961500e+16,\n",
       "       1.08567384e+16, 1.17735847e+16, 1.30131028e+16, 8.51431621e+15,\n",
       "       8.65479171e+15, 8.42796867e+15, 9.30980355e+15, 8.40689966e+15,\n",
       "       8.40684681e+15, 8.53055543e+15, 1.27409099e+16, 1.11710637e+16,\n",
       "       1.14684309e+16, 1.02176086e+16, 1.26604865e+16, 1.19658080e+16,\n",
       "       9.09478241e+15, 9.90834843e+15, 1.12218311e+16, 1.16126239e+16])"
      ]
     },
     "execution_count": 19,
     "metadata": {},
     "output_type": "execute_result"
    }
   ],
   "source": [
    " predictedvalues"
   ]
  },
  {
   "cell_type": "markdown",
   "metadata": {},
   "source": [
    "## Evaluate models built on Bootstrap samples"
   ]
  },
  {
   "cell_type": "code",
   "execution_count": 20,
   "metadata": {},
   "outputs": [
    {
     "data": {
      "image/png": "[encoded data removed]",
      "text/plain": [
       "<Figure size 576x432 with 1 Axes>"
      ]
     },
     "metadata": {
      "needs_background": "light"
     },
     "output_type": "display_data"
    }
   ],
   "source": [
    "import matplotlib.pyplot as plt\n",
    "f, ax= plt.subplots(figsize=(8,6))\n",
    "\n",
    "plt.plot(mse_each_iterations, 'c--', label='MSE by Iteration')\n",
    "\n",
    "plt.xlabel('Iterations')\n",
    "plt.ylabel('Mean Squared Error')\n",
    "plt.legend(loc=1)\n",
    "plt.show()"
   ]
  },
  {
   "cell_type": "markdown",
   "metadata": {},
   "source": [
    "## Bagging Classifier\n",
    "### Using BaggingClassifier on Decision Tree model on Wine Data"
   ]
  },
  {
   "cell_type": "code",
   "execution_count": 21,
   "metadata": {},
   "outputs": [],
   "source": [
    "from sklearn.ensemble import BaggingClassifier\n",
    "from sklearn.tree import DecisionTreeClassifier\n",
    "from sklearn.model_selection import train_test_split"
   ]
  },
  {
   "cell_type": "code",
   "execution_count": 22,
   "metadata": {},
   "outputs": [
    {
     "data": {
      "text/plain": [
       "(177, 14)"
      ]
     },
     "execution_count": 22,
     "metadata": {},
     "output_type": "execute_result"
    }
   ],
   "source": [
    "df_winedata = pd.read_csv('winedata.csv')\n",
    "df_winedata.shape"
   ]
  },
  {
   "cell_type": "code",
   "execution_count": 23,
   "metadata": {},
   "outputs": [],
   "source": [
    "X = df_winedata.iloc[:,1:14]\n",
    "Y = df_winedata.iloc[:,0]\n",
    "\n",
    "X_train, X_test, Y_train, Y_test = train_test_split(X, Y, random_state=1)"
   ]
  },
  {
   "cell_type": "code",
   "execution_count": 24,
   "metadata": {},
   "outputs": [],
   "source": [
    "dt_model = DecisionTreeClassifier(criterion='entropy')\n",
    "bag_dt_model = BaggingClassifier(dt_model, max_features=1.0, n_estimators=5, \\\n",
    "                                 random_state=1, bootstrap=True)"
   ]
  },
  {
   "cell_type": "code",
   "execution_count": 73,
   "metadata": {},
   "outputs": [
    {
     "data": {
      "text/plain": [
       "BaggingClassifier(base_estimator=DecisionTreeClassifier(class_weight=None, criterion='entropy', max_depth=None,\n",
       "            max_features=None, max_leaf_nodes=None,\n",
       "            min_impurity_decrease=0.0, min_impurity_split=None,\n",
       "            min_samples_leaf=1, min_samples_split=2,\n",
       "            min_weight_fraction_leaf=0.0, presort=False, random_state=None,\n",
       "            splitter='best'),\n",
       "         bootstrap=True, bootstrap_features=False, max_features=1.0,\n",
       "         max_samples=1.0, n_estimators=5, n_jobs=None, oob_score=False,\n",
       "         random_state=1, verbose=0, warm_start=False)"
      ]
     },
     "execution_count": 73,
     "metadata": {},
     "output_type": "execute_result"
    }
   ],
   "source": [
    "bag_dt_model.fit(X_train, Y_train)"
   ]
  },
  {
   "cell_type": "code",
   "execution_count": 27,
   "metadata": {},
   "outputs": [
    {
     "data": {
      "text/plain": [
       "0.9111111111111111"
      ]
     },
     "execution_count": 27,
     "metadata": {},
     "output_type": "execute_result"
    }
   ],
   "source": [
    "bag_dt_model.score(X_test, Y_test)"
   ]
  },
  {
   "cell_type": "code",
   "execution_count": 28,
   "metadata": {},
   "outputs": [],
   "source": [
    "predictedvalues = bag_dt_model.predict(X_test)"
   ]
  },
  {
   "cell_type": "code",
   "execution_count": 29,
   "metadata": {},
   "outputs": [],
   "source": [
    "# code from \n",
    "# http://scikit-learn.org/stable/auto_examples/model_selection/plot_confusion_matrix.html\n",
    "def plot_confusion_matrix(cm, classes,\n",
    "                          normalize=False,\n",
    "                          title='Confusion matrix',\n",
    "                          cmap=plt.cm.Blues):\n",
    "    \"\"\"\n",
    "    This function prints and plots the confusion matrix.\n",
    "    \"\"\"\n",
    "    plt.imshow(cm, interpolation='nearest', cmap=cmap)\n",
    "    plt.title(title)\n",
    "    plt.colorbar()\n",
    "    tick_marks = np.arange(len(classes))\n",
    "    plt.xticks(tick_marks, classes, rotation=45)\n",
    "    plt.yticks(tick_marks, classes)\n",
    "\n",
    "    thresh = cm.max() / 2.\n",
    "    for i, j in itertools.product(range(cm.shape[0]), range(cm.shape[1])):\n",
    "        plt.text(j, i, cm[i, j],\n",
    "                 horizontalalignment=\"center\",\n",
    "                 color=\"white\" if cm[i, j] > thresh else \"black\")\n",
    "\n",
    "    plt.tight_layout()\n",
    "    plt.ylabel('Actuals')\n",
    "    plt.xlabel('Predicted')"
   ]
  },
  {
   "cell_type": "code",
   "execution_count": 30,
   "metadata": {},
   "outputs": [
    {
     "data": {
      "image/png": "[encoded data removed]",
      "text/plain": [
       "<Figure size 288x288 with 2 Axes>"
      ]
     },
     "metadata": {
      "needs_background": "light"
     },
     "output_type": "display_data"
    }
   ],
   "source": [
    "target_names = [ '1', '2', '3']\n",
    "\n",
    "# Formulating the Confusion Matrix\n",
    "import itertools\n",
    "from sklearn.metrics import confusion_matrix\n",
    "\n",
    "cm = confusion_matrix(Y_test, predictedvalues)\n",
    "\n",
    "plt.figure(figsize=(4,4))\n",
    "plot_confusion_matrix(cm, classes=target_names, normalize=False)\n",
    "plt.show()"
   ]
  },
  {
   "cell_type": "markdown",
   "metadata": {},
   "source": [
    "### Using grid search & multiple classifier on Wine Data"
   ]
  },
  {
   "cell_type": "code",
   "execution_count": 31,
   "metadata": {},
   "outputs": [
    {
     "name": "stdout",
     "output_type": "stream",
     "text": [
      "{'base_estimator__max_depth': 3, 'base_estimator__max_leaf_nodes': 10, 'n_estimators': 20}\n"
     ]
    },
    {
     "name": "stderr",
     "output_type": "stream",
     "text": [
      "C:\\Users\\user\\Anaconda3\\lib\\site-packages\\sklearn\\model_selection\\_search.py:841: DeprecationWarning: The default of the `iid` parameter will change from True to False in version 0.22 and will be removed in 0.24. This will change numeric results when test-set sizes are unequal.\n",
      "  DeprecationWarning)\n"
     ]
    }
   ],
   "source": [
    "from sklearn.model_selection import GridSearchCV\n",
    "\n",
    "param_values = {'n_estimators': [10, 20, 25, 30], 'base_estimator__max_leaf_nodes':[5, 10, 15, 20], 'base_estimator__max_depth':[3, 4, 5]}\n",
    "\n",
    "dt_model = DecisionTreeClassifier()\n",
    "bag_dt_model_grid = BaggingClassifier(base_estimator=dt_model, oob_score=True, bootstrap=True, random_state=1) \n",
    "\n",
    "# Use GridSearchCV() to determine best parameters\n",
    "bc_grid = GridSearchCV(estimator=bag_dt_model_grid, param_grid=param_values, cv=20, n_jobs=-1)\n",
    "bc_grid.fit(X_train, Y_train)\n",
    "best_params = bc_grid.best_params_\n",
    "print(best_params)"
   ]
  },
  {
   "cell_type": "code",
   "execution_count": 25,
   "metadata": {},
   "outputs": [],
   "source": [
    "best_dt_model = DecisionTreeClassifier(criterion='entropy', max_leaf_nodes=10, max_depth=3)                   \n",
    "final_bag_dt_model = BaggingClassifier(base_estimator=best_dt_model, n_estimators=150, bootstrap=True, random_state=1, oob_score=True)"
   ]
  },
  {
   "cell_type": "code",
   "execution_count": 33,
   "metadata": {},
   "outputs": [
    {
     "name": "stdout",
     "output_type": "stream",
     "text": [
      "0.9545454545454546\n"
     ]
    }
   ],
   "source": [
    "final_bag_dt_model.fit(X_train, Y_train)\n",
    "bag_predictedvalues = final_bag_dt_model.predict(X_test)\n",
    "\n",
    "# compare OOB accuracy to test-set accuracy\n",
    "acc_oob = final_bag_dt_model.oob_score_\n",
    "print(acc_oob)  "
   ]
  },
  {
   "cell_type": "code",
   "execution_count": 498,
   "metadata": {},
   "outputs": [
    {
     "data": {
      "image/png": "[encoded data removed]",
      "text/plain": [
       "<matplotlib.figure.Figure at 0x1a17a28128>"
      ]
     },
     "metadata": {},
     "output_type": "display_data"
    }
   ],
   "source": [
    "cm = confusion_matrix(Y_test, bag_predictedvalues)\n",
    "\n",
    "plt.figure(figsize=(4,4))\n",
    "plot_confusion_matrix(cm, classes=target_names, normalize=False)\n",
    "plt.show()"
   ]
  },
  {
   "cell_type": "markdown",
   "metadata": {},
   "source": [
    "## Bagging Regressor\n",
    "### Using Decision Tree Regressor on Boston data"
   ]
  },
  {
   "cell_type": "markdown",
   "metadata": {},
   "source": [
    "#### Data Description"
   ]
  },
  {
   "cell_type": "raw",
   "metadata": {},
   "source": [
    "crim: per capita crime rate by town.\n",
    "zn: proportion of residential land zoned for lots over 25,000 sq.ft.\n",
    "indus: proportion of non-retail business acres per town.\n",
    "chas: Charles River dummy variable (= 1 if tract bounds river; 0 otherwise).\n",
    "nox: nitrogen oxides concentration (parts per 10 million).\n",
    "rm: average number of rooms per dwelling.\n",
    "age: proportion of owner-occupied units built prior to 1940.\n",
    "dis: weighted mean of distances to five Boston employment centres.\n",
    "rad: index of accessibility to radial highways.\n",
    "tax: full-value property-tax rate per \\$10,000.\n",
    "ptratio: pupil-teacher ratio by town.\n",
    "black: 1000(Bk - 0.63)^2 where Bk is the proportion of blacks by town.\n",
    "lstat: lower status of the population (percent).\n",
    "medv: median value of owner-occupied homes in \\$1000s."
   ]
  },
  {
   "cell_type": "code",
   "execution_count": 74,
   "metadata": {},
   "outputs": [],
   "source": [
    "from sklearn.ensemble import BaggingRegressor\n",
    "from sklearn.tree import DecisionTreeRegressor"
   ]
  },
  {
   "cell_type": "code",
   "execution_count": 75,
   "metadata": {},
   "outputs": [
    {
     "data": {
      "text/plain": [
       "(333, 15)"
      ]
     },
     "execution_count": 75,
     "metadata": {},
     "output_type": "execute_result"
    }
   ],
   "source": [
    "df_housingdata = pd.read_csv('bostonhousing.csv')\n",
    "df_housingdata.shape"
   ]
  },
  {
   "cell_type": "code",
   "execution_count": 76,
   "metadata": {},
   "outputs": [
    {
     "data": {
      "text/html": [
       "<div>\n",
       "<style scoped>\n",
       "    .dataframe tbody tr th:only-of-type {\n",
       "        vertical-align: middle;\n",
       "    }\n",
       "\n",
       "    .dataframe tbody tr th {\n",
       "        vertical-align: top;\n",
       "    }\n",
       "\n",
       "    .dataframe thead th {\n",
       "        text-align: right;\n",
       "    }\n",
       "</style>\n",
       "<table border=\"1\" class=\"dataframe\">\n",
       "  <thead>\n",
       "    <tr style=\"text-align: right;\">\n",
       "      <th></th>\n",
       "      <th>ID</th>\n",
       "      <th>crim</th>\n",
       "      <th>zn</th>\n",
       "      <th>indus</th>\n",
       "      <th>chas</th>\n",
       "      <th>nox</th>\n",
       "      <th>rm</th>\n",
       "      <th>age</th>\n",
       "      <th>dis</th>\n",
       "      <th>rad</th>\n",
       "      <th>tax</th>\n",
       "      <th>ptratio</th>\n",
       "      <th>black</th>\n",
       "      <th>lstat</th>\n",
       "      <th>medv</th>\n",
       "    </tr>\n",
       "  </thead>\n",
       "  <tbody>\n",
       "    <tr>\n",
       "      <th>0</th>\n",
       "      <td>1</td>\n",
       "      <td>0.00632</td>\n",
       "      <td>18.0</td>\n",
       "      <td>2.31</td>\n",
       "      <td>0</td>\n",
       "      <td>0.538</td>\n",
       "      <td>6.575</td>\n",
       "      <td>65.2</td>\n",
       "      <td>4.0900</td>\n",
       "      <td>1</td>\n",
       "      <td>296</td>\n",
       "      <td>15.3</td>\n",
       "      <td>396.90</td>\n",
       "      <td>4.98</td>\n",
       "      <td>24.0</td>\n",
       "    </tr>\n",
       "    <tr>\n",
       "      <th>1</th>\n",
       "      <td>2</td>\n",
       "      <td>0.02731</td>\n",
       "      <td>0.0</td>\n",
       "      <td>7.07</td>\n",
       "      <td>0</td>\n",
       "      <td>0.469</td>\n",
       "      <td>6.421</td>\n",
       "      <td>78.9</td>\n",
       "      <td>4.9671</td>\n",
       "      <td>2</td>\n",
       "      <td>242</td>\n",
       "      <td>17.8</td>\n",
       "      <td>396.90</td>\n",
       "      <td>9.14</td>\n",
       "      <td>21.6</td>\n",
       "    </tr>\n",
       "    <tr>\n",
       "      <th>2</th>\n",
       "      <td>4</td>\n",
       "      <td>0.03237</td>\n",
       "      <td>0.0</td>\n",
       "      <td>2.18</td>\n",
       "      <td>0</td>\n",
       "      <td>0.458</td>\n",
       "      <td>6.998</td>\n",
       "      <td>45.8</td>\n",
       "      <td>6.0622</td>\n",
       "      <td>3</td>\n",
       "      <td>222</td>\n",
       "      <td>18.7</td>\n",
       "      <td>394.63</td>\n",
       "      <td>2.94</td>\n",
       "      <td>33.4</td>\n",
       "    </tr>\n",
       "    <tr>\n",
       "      <th>3</th>\n",
       "      <td>5</td>\n",
       "      <td>0.06905</td>\n",
       "      <td>0.0</td>\n",
       "      <td>2.18</td>\n",
       "      <td>0</td>\n",
       "      <td>0.458</td>\n",
       "      <td>7.147</td>\n",
       "      <td>54.2</td>\n",
       "      <td>6.0622</td>\n",
       "      <td>3</td>\n",
       "      <td>222</td>\n",
       "      <td>18.7</td>\n",
       "      <td>396.90</td>\n",
       "      <td>5.33</td>\n",
       "      <td>36.2</td>\n",
       "    </tr>\n",
       "    <tr>\n",
       "      <th>4</th>\n",
       "      <td>7</td>\n",
       "      <td>0.08829</td>\n",
       "      <td>12.5</td>\n",
       "      <td>7.87</td>\n",
       "      <td>0</td>\n",
       "      <td>0.524</td>\n",
       "      <td>6.012</td>\n",
       "      <td>66.6</td>\n",
       "      <td>5.5605</td>\n",
       "      <td>5</td>\n",
       "      <td>311</td>\n",
       "      <td>15.2</td>\n",
       "      <td>395.60</td>\n",
       "      <td>12.43</td>\n",
       "      <td>22.9</td>\n",
       "    </tr>\n",
       "  </tbody>\n",
       "</table>\n",
       "</div>"
      ],
      "text/plain": [
       "   ID     crim    zn  indus  chas    nox     rm   age     dis  rad  tax  \\\n",
       "0   1  0.00632  18.0   2.31     0  0.538  6.575  65.2  4.0900    1  296   \n",
       "1   2  0.02731   0.0   7.07     0  0.469  6.421  78.9  4.9671    2  242   \n",
       "2   4  0.03237   0.0   2.18     0  0.458  6.998  45.8  6.0622    3  222   \n",
       "3   5  0.06905   0.0   2.18     0  0.458  7.147  54.2  6.0622    3  222   \n",
       "4   7  0.08829  12.5   7.87     0  0.524  6.012  66.6  5.5605    5  311   \n",
       "\n",
       "   ptratio   black  lstat  medv  \n",
       "0     15.3  396.90   4.98  24.0  \n",
       "1     17.8  396.90   9.14  21.6  \n",
       "2     18.7  394.63   2.94  33.4  \n",
       "3     18.7  396.90   5.33  36.2  \n",
       "4     15.2  395.60  12.43  22.9  "
      ]
     },
     "execution_count": 76,
     "metadata": {},
     "output_type": "execute_result"
    }
   ],
   "source": [
    "df_housingdata.head()"
   ]
  },
  {
   "cell_type": "code",
   "execution_count": 77,
   "metadata": {},
   "outputs": [],
   "source": [
    "X = df_housingdata.iloc[:,1:14]\n",
    "Y = df_housingdata.iloc[:,-1]\n",
    "\n",
    "X_train, X_test, Y_train, Y_test = train_test_split(X, Y, random_state=1)"
   ]
  },
  {
   "cell_type": "code",
   "execution_count": 78,
   "metadata": {},
   "outputs": [
    {
     "data": {
      "text/html": [
       "<div>\n",
       "<style scoped>\n",
       "    .dataframe tbody tr th:only-of-type {\n",
       "        vertical-align: middle;\n",
       "    }\n",
       "\n",
       "    .dataframe tbody tr th {\n",
       "        vertical-align: top;\n",
       "    }\n",
       "\n",
       "    .dataframe thead th {\n",
       "        text-align: right;\n",
       "    }\n",
       "</style>\n",
       "<table border=\"1\" class=\"dataframe\">\n",
       "  <thead>\n",
       "    <tr style=\"text-align: right;\">\n",
       "      <th></th>\n",
       "      <th>crim</th>\n",
       "      <th>zn</th>\n",
       "      <th>indus</th>\n",
       "      <th>chas</th>\n",
       "      <th>nox</th>\n",
       "      <th>rm</th>\n",
       "      <th>age</th>\n",
       "      <th>dis</th>\n",
       "      <th>rad</th>\n",
       "      <th>tax</th>\n",
       "      <th>ptratio</th>\n",
       "      <th>black</th>\n",
       "      <th>lstat</th>\n",
       "    </tr>\n",
       "  </thead>\n",
       "  <tbody>\n",
       "    <tr>\n",
       "      <th>0</th>\n",
       "      <td>0.00632</td>\n",
       "      <td>18.0</td>\n",
       "      <td>2.31</td>\n",
       "      <td>0</td>\n",
       "      <td>0.538</td>\n",
       "      <td>6.575</td>\n",
       "      <td>65.2</td>\n",
       "      <td>4.0900</td>\n",
       "      <td>1</td>\n",
       "      <td>296</td>\n",
       "      <td>15.3</td>\n",
       "      <td>396.90</td>\n",
       "      <td>4.98</td>\n",
       "    </tr>\n",
       "    <tr>\n",
       "      <th>1</th>\n",
       "      <td>0.02731</td>\n",
       "      <td>0.0</td>\n",
       "      <td>7.07</td>\n",
       "      <td>0</td>\n",
       "      <td>0.469</td>\n",
       "      <td>6.421</td>\n",
       "      <td>78.9</td>\n",
       "      <td>4.9671</td>\n",
       "      <td>2</td>\n",
       "      <td>242</td>\n",
       "      <td>17.8</td>\n",
       "      <td>396.90</td>\n",
       "      <td>9.14</td>\n",
       "    </tr>\n",
       "    <tr>\n",
       "      <th>2</th>\n",
       "      <td>0.03237</td>\n",
       "      <td>0.0</td>\n",
       "      <td>2.18</td>\n",
       "      <td>0</td>\n",
       "      <td>0.458</td>\n",
       "      <td>6.998</td>\n",
       "      <td>45.8</td>\n",
       "      <td>6.0622</td>\n",
       "      <td>3</td>\n",
       "      <td>222</td>\n",
       "      <td>18.7</td>\n",
       "      <td>394.63</td>\n",
       "      <td>2.94</td>\n",
       "    </tr>\n",
       "    <tr>\n",
       "      <th>3</th>\n",
       "      <td>0.06905</td>\n",
       "      <td>0.0</td>\n",
       "      <td>2.18</td>\n",
       "      <td>0</td>\n",
       "      <td>0.458</td>\n",
       "      <td>7.147</td>\n",
       "      <td>54.2</td>\n",
       "      <td>6.0622</td>\n",
       "      <td>3</td>\n",
       "      <td>222</td>\n",
       "      <td>18.7</td>\n",
       "      <td>396.90</td>\n",
       "      <td>5.33</td>\n",
       "    </tr>\n",
       "    <tr>\n",
       "      <th>4</th>\n",
       "      <td>0.08829</td>\n",
       "      <td>12.5</td>\n",
       "      <td>7.87</td>\n",
       "      <td>0</td>\n",
       "      <td>0.524</td>\n",
       "      <td>6.012</td>\n",
       "      <td>66.6</td>\n",
       "      <td>5.5605</td>\n",
       "      <td>5</td>\n",
       "      <td>311</td>\n",
       "      <td>15.2</td>\n",
       "      <td>395.60</td>\n",
       "      <td>12.43</td>\n",
       "    </tr>\n",
       "  </tbody>\n",
       "</table>\n",
       "</div>"
      ],
      "text/plain": [
       "      crim    zn  indus  chas    nox     rm   age     dis  rad  tax  ptratio  \\\n",
       "0  0.00632  18.0   2.31     0  0.538  6.575  65.2  4.0900    1  296     15.3   \n",
       "1  0.02731   0.0   7.07     0  0.469  6.421  78.9  4.9671    2  242     17.8   \n",
       "2  0.03237   0.0   2.18     0  0.458  6.998  45.8  6.0622    3  222     18.7   \n",
       "3  0.06905   0.0   2.18     0  0.458  7.147  54.2  6.0622    3  222     18.7   \n",
       "4  0.08829  12.5   7.87     0  0.524  6.012  66.6  5.5605    5  311     15.2   \n",
       "\n",
       "    black  lstat  \n",
       "0  396.90   4.98  \n",
       "1  396.90   9.14  \n",
       "2  394.63   2.94  \n",
       "3  396.90   5.33  \n",
       "4  395.60  12.43  "
      ]
     },
     "execution_count": 78,
     "metadata": {},
     "output_type": "execute_result"
    }
   ],
   "source": [
    "X.head()"
   ]
  },
  {
   "cell_type": "code",
   "execution_count": 79,
   "metadata": {},
   "outputs": [
    {
     "data": {
      "text/plain": [
       "0    24.0\n",
       "1    21.6\n",
       "2    33.4\n",
       "3    36.2\n",
       "4    22.9\n",
       "Name: medv, dtype: float64"
      ]
     },
     "execution_count": 79,
     "metadata": {},
     "output_type": "execute_result"
    }
   ],
   "source": [
    "Y.head()"
   ]
  },
  {
   "cell_type": "code",
   "execution_count": 623,
   "metadata": {},
   "outputs": [],
   "source": [
    "dt_model = DecisionTreeRegressor()\n",
    "bag_dt_model = BaggingRegressor(dt_model, max_features=1.0, n_estimators=30, bootstrap=True, random_state=1, )"
   ]
  },
  {
   "cell_type": "code",
   "execution_count": 624,
   "metadata": {},
   "outputs": [
    {
     "data": {
      "text/plain": [
       "BaggingRegressor(base_estimator=DecisionTreeRegressor(criterion='mse', max_depth=None, max_features=None,\n",
       "           max_leaf_nodes=None, min_impurity_decrease=0.0,\n",
       "           min_impurity_split=None, min_samples_leaf=1,\n",
       "           min_samples_split=2, min_weight_fraction_leaf=0.0,\n",
       "           presort=False, random_state=None, splitter='best'),\n",
       "         bootstrap=True, bootstrap_features=False, max_features=1.0,\n",
       "         max_samples=1.0, n_estimators=30, n_jobs=1, oob_score=False,\n",
       "         random_state=1, verbose=0, warm_start=False)"
      ]
     },
     "execution_count": 624,
     "metadata": {},
     "output_type": "execute_result"
    }
   ],
   "source": [
    "bag_dt_model.fit(X_train, Y_train)"
   ]
  },
  {
   "cell_type": "code",
   "execution_count": 625,
   "metadata": {},
   "outputs": [
    {
     "data": {
      "text/plain": [
       "0.82224534363352664"
      ]
     },
     "execution_count": 625,
     "metadata": {},
     "output_type": "execute_result"
    }
   ],
   "source": [
    "bag_dt_model.score(X_test, Y_test)"
   ]
  },
  {
   "cell_type": "code",
   "execution_count": 626,
   "metadata": {},
   "outputs": [],
   "source": [
    "predictedvalues = bag_dt_model.predict(X_test)"
   ]
  },
  {
   "cell_type": "code",
   "execution_count": 627,
   "metadata": {},
   "outputs": [
    {
     "data": {
      "image/png": "[encoded data removed]",
      "text/plain": [
       "<matplotlib.figure.Figure at 0x1a0b9662b0>"
      ]
     },
     "metadata": {},
     "output_type": "display_data"
    }
   ],
   "source": [
    "# We can plot the actuals and the predicted values \n",
    "plt.figure(figsize=(4, 4))\n",
    "plt.scatter(Y_test, predictedvalues)\n",
    "plt.xlabel('Actual')\n",
    "plt.ylabel('Predicted')\n",
    "plt.tight_layout()"
   ]
  },
  {
   "cell_type": "code",
   "execution_count": null,
   "metadata": {},
   "outputs": [],
   "source": []
  }
 ],
 "metadata": {
  "kernelspec": {
   "display_name": "Python 3",
   "language": "python",
   "name": "python3"
  },
  "language_info": {
   "codemirror_mode": {
    "name": "ipython",
    "version": 3
   },
   "file_extension": ".py",
   "mimetype": "text/x-python",
   "name": "python",
   "nbconvert_exporter": "python",
   "pygments_lexer": "ipython3",
   "version": "3.7.3"
  }
 },
 "nbformat": 4,
 "nbformat_minor": 2
}
